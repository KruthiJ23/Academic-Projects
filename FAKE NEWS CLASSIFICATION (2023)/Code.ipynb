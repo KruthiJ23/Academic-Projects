{
 "cells": [
  {
   "cell_type": "markdown",
   "id": "e7bc62ad",
   "metadata": {},
   "source": [
    "# Importing Libraries"
   ]
  },
  {
   "cell_type": "code",
   "execution_count": 1,
   "id": "e8448f1f",
   "metadata": {},
   "outputs": [],
   "source": [
    "import pandas as pd\n",
    "import matplotlib.pyplot as plt\n",
    "import seaborn as sns\n",
    "import re\n",
    "import string\n",
    "\n",
    "import sklearn\n",
    "from sklearn.model_selection import train_test_split\n",
    "from sklearn.metrics import accuracy_score,classification_report\n",
    "from sklearn.feature_extraction.text import TfidfVectorizer\n",
    "from sklearn.preprocessing import StandardScaler\n",
    "from sklearn.ensemble import RandomForestClassifier\n",
    "from sklearn.naive_bayes import MultinomialNB\n",
    "from sklearn.tree import DecisionTreeClassifier\n",
    "from sklearn.neighbors import KNeighborsClassifier\n",
    "\n",
    "import nltk\n",
    "from nltk.corpus import stopwords\n",
    "from nltk.corpus import wordnet as wn\n",
    "from nltk.stem.wordnet import WordNetLemmatizer\n",
    "\n",
    "from tabulate import tabulate"
   ]
  },
  {
   "cell_type": "markdown",
   "id": "9166c0fc",
   "metadata": {},
   "source": [
    "# Importing Dataset"
   ]
  },
  {
   "cell_type": "code",
   "execution_count": 2,
   "id": "b1ea6d1f",
   "metadata": {},
   "outputs": [
    {
     "data": {
      "text/html": [
       "<div>\n",
       "<style scoped>\n",
       "    .dataframe tbody tr th:only-of-type {\n",
       "        vertical-align: middle;\n",
       "    }\n",
       "\n",
       "    .dataframe tbody tr th {\n",
       "        vertical-align: top;\n",
       "    }\n",
       "\n",
       "    .dataframe thead th {\n",
       "        text-align: right;\n",
       "    }\n",
       "</style>\n",
       "<table border=\"1\" class=\"dataframe\">\n",
       "  <thead>\n",
       "    <tr style=\"text-align: right;\">\n",
       "      <th></th>\n",
       "      <th>id</th>\n",
       "      <th>tid1</th>\n",
       "      <th>tid2</th>\n",
       "      <th>title1_en</th>\n",
       "      <th>title2_en</th>\n",
       "      <th>label</th>\n",
       "    </tr>\n",
       "  </thead>\n",
       "  <tbody>\n",
       "    <tr>\n",
       "      <th>0</th>\n",
       "      <td>195611</td>\n",
       "      <td>0</td>\n",
       "      <td>1</td>\n",
       "      <td>There are two new old-age insurance benefits f...</td>\n",
       "      <td>Police disprove \"bird's nest congress each per...</td>\n",
       "      <td>unrelated</td>\n",
       "    </tr>\n",
       "    <tr>\n",
       "      <th>1</th>\n",
       "      <td>191474</td>\n",
       "      <td>2</td>\n",
       "      <td>3</td>\n",
       "      <td>\"If you do not come to Shenzhen, sooner or lat...</td>\n",
       "      <td>Shenzhen's GDP outstrips Hong Kong? Shenzhen S...</td>\n",
       "      <td>unrelated</td>\n",
       "    </tr>\n",
       "    <tr>\n",
       "      <th>2</th>\n",
       "      <td>25300</td>\n",
       "      <td>2</td>\n",
       "      <td>4</td>\n",
       "      <td>\"If you do not come to Shenzhen, sooner or lat...</td>\n",
       "      <td>The GDP overtopped Hong Kong? Shenzhen clarifi...</td>\n",
       "      <td>unrelated</td>\n",
       "    </tr>\n",
       "    <tr>\n",
       "      <th>3</th>\n",
       "      <td>123757</td>\n",
       "      <td>2</td>\n",
       "      <td>8</td>\n",
       "      <td>\"If you do not come to Shenzhen, sooner or lat...</td>\n",
       "      <td>Shenzhen's GDP overtakes Hong Kong? Bureau of ...</td>\n",
       "      <td>unrelated</td>\n",
       "    </tr>\n",
       "    <tr>\n",
       "      <th>4</th>\n",
       "      <td>141761</td>\n",
       "      <td>2</td>\n",
       "      <td>11</td>\n",
       "      <td>\"If you do not come to Shenzhen, sooner or lat...</td>\n",
       "      <td>Shenzhen's GDP outpaces Hong Kong? Defending R...</td>\n",
       "      <td>unrelated</td>\n",
       "    </tr>\n",
       "  </tbody>\n",
       "</table>\n",
       "</div>"
      ],
      "text/plain": [
       "       id  tid1  tid2                                          title1_en  \\\n",
       "0  195611     0     1  There are two new old-age insurance benefits f...   \n",
       "1  191474     2     3  \"If you do not come to Shenzhen, sooner or lat...   \n",
       "2   25300     2     4  \"If you do not come to Shenzhen, sooner or lat...   \n",
       "3  123757     2     8  \"If you do not come to Shenzhen, sooner or lat...   \n",
       "4  141761     2    11  \"If you do not come to Shenzhen, sooner or lat...   \n",
       "\n",
       "                                           title2_en      label  \n",
       "0  Police disprove \"bird's nest congress each per...  unrelated  \n",
       "1  Shenzhen's GDP outstrips Hong Kong? Shenzhen S...  unrelated  \n",
       "2  The GDP overtopped Hong Kong? Shenzhen clarifi...  unrelated  \n",
       "3  Shenzhen's GDP overtakes Hong Kong? Bureau of ...  unrelated  \n",
       "4  Shenzhen's GDP outpaces Hong Kong? Defending R...  unrelated  "
      ]
     },
     "execution_count": 2,
     "metadata": {},
     "output_type": "execute_result"
    }
   ],
   "source": [
    "# Loading the data\n",
    "fakenews_train_dataset = pd.read_csv(\"train.csv\")\n",
    "fakenews_train_dataset.head()"
   ]
  },
  {
   "cell_type": "code",
   "execution_count": 3,
   "id": "689f3e25",
   "metadata": {},
   "outputs": [
    {
     "data": {
      "text/html": [
       "<div>\n",
       "<style scoped>\n",
       "    .dataframe tbody tr th:only-of-type {\n",
       "        vertical-align: middle;\n",
       "    }\n",
       "\n",
       "    .dataframe tbody tr th {\n",
       "        vertical-align: top;\n",
       "    }\n",
       "\n",
       "    .dataframe thead th {\n",
       "        text-align: right;\n",
       "    }\n",
       "</style>\n",
       "<table border=\"1\" class=\"dataframe\">\n",
       "  <thead>\n",
       "    <tr style=\"text-align: right;\">\n",
       "      <th></th>\n",
       "      <th>id</th>\n",
       "      <th>tid1</th>\n",
       "      <th>tid2</th>\n",
       "    </tr>\n",
       "  </thead>\n",
       "  <tbody>\n",
       "    <tr>\n",
       "      <th>count</th>\n",
       "      <td>256442.000000</td>\n",
       "      <td>256442.000000</td>\n",
       "      <td>256442.000000</td>\n",
       "    </tr>\n",
       "    <tr>\n",
       "      <th>mean</th>\n",
       "      <td>128220.500000</td>\n",
       "      <td>85063.728434</td>\n",
       "      <td>69712.542399</td>\n",
       "    </tr>\n",
       "    <tr>\n",
       "      <th>std</th>\n",
       "      <td>74028.573203</td>\n",
       "      <td>48402.199542</td>\n",
       "      <td>45481.347050</td>\n",
       "    </tr>\n",
       "    <tr>\n",
       "      <th>min</th>\n",
       "      <td>0.000000</td>\n",
       "      <td>0.000000</td>\n",
       "      <td>1.000000</td>\n",
       "    </tr>\n",
       "    <tr>\n",
       "      <th>25%</th>\n",
       "      <td>64110.250000</td>\n",
       "      <td>44052.000000</td>\n",
       "      <td>30619.000000</td>\n",
       "    </tr>\n",
       "    <tr>\n",
       "      <th>50%</th>\n",
       "      <td>128220.500000</td>\n",
       "      <td>85487.000000</td>\n",
       "      <td>63750.000000</td>\n",
       "    </tr>\n",
       "    <tr>\n",
       "      <th>75%</th>\n",
       "      <td>192330.750000</td>\n",
       "      <td>127504.000000</td>\n",
       "      <td>105255.750000</td>\n",
       "    </tr>\n",
       "    <tr>\n",
       "      <th>max</th>\n",
       "      <td>256441.000000</td>\n",
       "      <td>167563.000000</td>\n",
       "      <td>167557.000000</td>\n",
       "    </tr>\n",
       "  </tbody>\n",
       "</table>\n",
       "</div>"
      ],
      "text/plain": [
       "                  id           tid1           tid2\n",
       "count  256442.000000  256442.000000  256442.000000\n",
       "mean   128220.500000   85063.728434   69712.542399\n",
       "std     74028.573203   48402.199542   45481.347050\n",
       "min         0.000000       0.000000       1.000000\n",
       "25%     64110.250000   44052.000000   30619.000000\n",
       "50%    128220.500000   85487.000000   63750.000000\n",
       "75%    192330.750000  127504.000000  105255.750000\n",
       "max    256441.000000  167563.000000  167557.000000"
      ]
     },
     "execution_count": 3,
     "metadata": {},
     "output_type": "execute_result"
    }
   ],
   "source": [
    "# Understanding the data\n",
    "fakenews_train_dataset.describe()"
   ]
  },
  {
   "cell_type": "code",
   "execution_count": 4,
   "id": "ae3c3254",
   "metadata": {},
   "outputs": [
    {
     "name": "stdout",
     "output_type": "stream",
     "text": [
      "<class 'pandas.core.frame.DataFrame'>\n",
      "RangeIndex: 256442 entries, 0 to 256441\n",
      "Data columns (total 6 columns):\n",
      " #   Column     Non-Null Count   Dtype \n",
      "---  ------     --------------   ----- \n",
      " 0   id         256442 non-null  int64 \n",
      " 1   tid1       256442 non-null  int64 \n",
      " 2   tid2       256442 non-null  int64 \n",
      " 3   title1_en  256442 non-null  object\n",
      " 4   title2_en  256442 non-null  object\n",
      " 5   label      256442 non-null  object\n",
      "dtypes: int64(3), object(3)\n",
      "memory usage: 11.7+ MB\n"
     ]
    }
   ],
   "source": [
    "fakenews_train_dataset.info()"
   ]
  },
  {
   "cell_type": "code",
   "execution_count": 5,
   "id": "9f737a07",
   "metadata": {
    "scrolled": true
   },
   "outputs": [
    {
     "data": {
      "text/plain": [
       "unrelated    175598\n",
       "agreed        74238\n",
       "disagreed      6606\n",
       "Name: label, dtype: int64"
      ]
     },
     "execution_count": 5,
     "metadata": {},
     "output_type": "execute_result"
    },
    {
     "data": {
      "image/png": "[encoded data removed]",
      "text/plain": [
       "<Figure size 432x288 with 1 Axes>"
      ]
     },
     "metadata": {
      "needs_background": "light"
     },
     "output_type": "display_data"
    }
   ],
   "source": [
    "fakenews_train_dataset['label'].hist()\n",
    "fakenews_train_dataset['label'].value_counts()"
   ]
  },
  {
   "cell_type": "markdown",
   "id": "9f1d75d1",
   "metadata": {},
   "source": [
    "# Data Prepocessing"
   ]
  },
  {
   "cell_type": "code",
   "execution_count": 6,
   "id": "b821bcc9",
   "metadata": {},
   "outputs": [
    {
     "data": {
      "text/plain": [
       "id           0\n",
       "tid1         0\n",
       "tid2         0\n",
       "title1_en    0\n",
       "title2_en    0\n",
       "label        0\n",
       "dtype: int64"
      ]
     },
     "execution_count": 6,
     "metadata": {},
     "output_type": "execute_result"
    }
   ],
   "source": [
    "fakenews_train_dataset.isnull().sum()"
   ]
  },
  {
   "cell_type": "code",
   "execution_count": 7,
   "id": "82084544",
   "metadata": {},
   "outputs": [
    {
     "data": {
      "text/html": [
       "<div>\n",
       "<style scoped>\n",
       "    .dataframe tbody tr th:only-of-type {\n",
       "        vertical-align: middle;\n",
       "    }\n",
       "\n",
       "    .dataframe tbody tr th {\n",
       "        vertical-align: top;\n",
       "    }\n",
       "\n",
       "    .dataframe thead th {\n",
       "        text-align: right;\n",
       "    }\n",
       "</style>\n",
       "<table border=\"1\" class=\"dataframe\">\n",
       "  <thead>\n",
       "    <tr style=\"text-align: right;\">\n",
       "      <th></th>\n",
       "      <th>id</th>\n",
       "      <th>title1_en</th>\n",
       "      <th>title2_en</th>\n",
       "      <th>label</th>\n",
       "    </tr>\n",
       "  </thead>\n",
       "  <tbody>\n",
       "    <tr>\n",
       "      <th>0</th>\n",
       "      <td>195611</td>\n",
       "      <td>There are two new old-age insurance benefits f...</td>\n",
       "      <td>Police disprove \"bird's nest congress each per...</td>\n",
       "      <td>unrelated</td>\n",
       "    </tr>\n",
       "    <tr>\n",
       "      <th>1</th>\n",
       "      <td>191474</td>\n",
       "      <td>\"If you do not come to Shenzhen, sooner or lat...</td>\n",
       "      <td>Shenzhen's GDP outstrips Hong Kong? Shenzhen S...</td>\n",
       "      <td>unrelated</td>\n",
       "    </tr>\n",
       "    <tr>\n",
       "      <th>2</th>\n",
       "      <td>25300</td>\n",
       "      <td>\"If you do not come to Shenzhen, sooner or lat...</td>\n",
       "      <td>The GDP overtopped Hong Kong? Shenzhen clarifi...</td>\n",
       "      <td>unrelated</td>\n",
       "    </tr>\n",
       "    <tr>\n",
       "      <th>3</th>\n",
       "      <td>123757</td>\n",
       "      <td>\"If you do not come to Shenzhen, sooner or lat...</td>\n",
       "      <td>Shenzhen's GDP overtakes Hong Kong? Bureau of ...</td>\n",
       "      <td>unrelated</td>\n",
       "    </tr>\n",
       "    <tr>\n",
       "      <th>4</th>\n",
       "      <td>141761</td>\n",
       "      <td>\"If you do not come to Shenzhen, sooner or lat...</td>\n",
       "      <td>Shenzhen's GDP outpaces Hong Kong? Defending R...</td>\n",
       "      <td>unrelated</td>\n",
       "    </tr>\n",
       "  </tbody>\n",
       "</table>\n",
       "</div>"
      ],
      "text/plain": [
       "       id                                          title1_en  \\\n",
       "0  195611  There are two new old-age insurance benefits f...   \n",
       "1  191474  \"If you do not come to Shenzhen, sooner or lat...   \n",
       "2   25300  \"If you do not come to Shenzhen, sooner or lat...   \n",
       "3  123757  \"If you do not come to Shenzhen, sooner or lat...   \n",
       "4  141761  \"If you do not come to Shenzhen, sooner or lat...   \n",
       "\n",
       "                                           title2_en      label  \n",
       "0  Police disprove \"bird's nest congress each per...  unrelated  \n",
       "1  Shenzhen's GDP outstrips Hong Kong? Shenzhen S...  unrelated  \n",
       "2  The GDP overtopped Hong Kong? Shenzhen clarifi...  unrelated  \n",
       "3  Shenzhen's GDP overtakes Hong Kong? Bureau of ...  unrelated  \n",
       "4  Shenzhen's GDP outpaces Hong Kong? Defending R...  unrelated  "
      ]
     },
     "execution_count": 7,
     "metadata": {},
     "output_type": "execute_result"
    }
   ],
   "source": [
    "cols = ['tid1', 'tid2']\n",
    "fakenews_train_dataset = fakenews_train_dataset.drop(cols, axis=1)\n",
    "fakenews_train_dataset.head()"
   ]
  },
  {
   "cell_type": "code",
   "execution_count": 8,
   "id": "92cf56b7",
   "metadata": {},
   "outputs": [],
   "source": [
    "stop_words = stopwords.words(\"english\")\n",
    "wordnet = WordNetLemmatizer()\n",
    "\n",
    "def text_preproc(x):\n",
    "  x = x.lower()\n",
    "  x = ' '.join([word for word in x.split(' ') if word not in stop_words])\n",
    "  x = x.encode('ascii', 'ignore').decode()\n",
    "  x = re.sub(r'https*\\S+', ' ', x)\n",
    "  x = re.sub(r'@\\S+', ' ', x)\n",
    "  x = re.sub(r'#\\S+', ' ', x)\n",
    "  x = re.sub(r'\\'\\w+', '', x)\n",
    "  x = re.sub('[%s]' % re.escape(string.punctuation), ' ', x)\n",
    "  x = re.sub(r'\\w*\\d+\\w*', '', x)\n",
    "  x = re.sub(r'\\s{2,}', ' ', x)\n",
    "  x = ' '.join([wordnet.lemmatize(word) for word in x.split()])\n",
    "  return x\n"
   ]
  },
  {
   "cell_type": "code",
   "execution_count": 9,
   "id": "030e433d",
   "metadata": {},
   "outputs": [
    {
     "data": {
      "text/html": [
       "<div>\n",
       "<style scoped>\n",
       "    .dataframe tbody tr th:only-of-type {\n",
       "        vertical-align: middle;\n",
       "    }\n",
       "\n",
       "    .dataframe tbody tr th {\n",
       "        vertical-align: top;\n",
       "    }\n",
       "\n",
       "    .dataframe thead th {\n",
       "        text-align: right;\n",
       "    }\n",
       "</style>\n",
       "<table border=\"1\" class=\"dataframe\">\n",
       "  <thead>\n",
       "    <tr style=\"text-align: right;\">\n",
       "      <th></th>\n",
       "      <th>id</th>\n",
       "      <th>title1_en</th>\n",
       "      <th>title2_en</th>\n",
       "      <th>label</th>\n",
       "    </tr>\n",
       "  </thead>\n",
       "  <tbody>\n",
       "    <tr>\n",
       "      <th>0</th>\n",
       "      <td>195611</td>\n",
       "      <td>two new old age insurance benefit old people r...</td>\n",
       "      <td>police disprove bird nest congress person get ...</td>\n",
       "      <td>unrelated</td>\n",
       "    </tr>\n",
       "    <tr>\n",
       "      <th>1</th>\n",
       "      <td>191474</td>\n",
       "      <td>if come shenzhen sooner later son also come le...</td>\n",
       "      <td>shenzhen gdp outstrips hong kong shenzhen stat...</td>\n",
       "      <td>unrelated</td>\n",
       "    </tr>\n",
       "    <tr>\n",
       "      <th>2</th>\n",
       "      <td>25300</td>\n",
       "      <td>if come shenzhen sooner later son also come le...</td>\n",
       "      <td>gdp overtopped hong kong shenzhen clarified li...</td>\n",
       "      <td>unrelated</td>\n",
       "    </tr>\n",
       "    <tr>\n",
       "      <th>3</th>\n",
       "      <td>123757</td>\n",
       "      <td>if come shenzhen sooner later son also come le...</td>\n",
       "      <td>shenzhen gdp overtakes hong kong bureau statis...</td>\n",
       "      <td>unrelated</td>\n",
       "    </tr>\n",
       "    <tr>\n",
       "      <th>4</th>\n",
       "      <td>141761</td>\n",
       "      <td>if come shenzhen sooner later son also come le...</td>\n",
       "      <td>shenzhen gdp outpaces hong kong defending rumo...</td>\n",
       "      <td>unrelated</td>\n",
       "    </tr>\n",
       "  </tbody>\n",
       "</table>\n",
       "</div>"
      ],
      "text/plain": [
       "       id                                          title1_en  \\\n",
       "0  195611  two new old age insurance benefit old people r...   \n",
       "1  191474  if come shenzhen sooner later son also come le...   \n",
       "2   25300  if come shenzhen sooner later son also come le...   \n",
       "3  123757  if come shenzhen sooner later son also come le...   \n",
       "4  141761  if come shenzhen sooner later son also come le...   \n",
       "\n",
       "                                           title2_en      label  \n",
       "0  police disprove bird nest congress person get ...  unrelated  \n",
       "1  shenzhen gdp outstrips hong kong shenzhen stat...  unrelated  \n",
       "2  gdp overtopped hong kong shenzhen clarified li...  unrelated  \n",
       "3  shenzhen gdp overtakes hong kong bureau statis...  unrelated  \n",
       "4  shenzhen gdp outpaces hong kong defending rumo...  unrelated  "
      ]
     },
     "execution_count": 9,
     "metadata": {},
     "output_type": "execute_result"
    }
   ],
   "source": [
    "#Prepocessing the text columns in dataset\n",
    "fakenews_train_dataset['title1_en'] = fakenews_train_dataset.title1_en.apply(text_preproc)\n",
    "fakenews_train_dataset['title2_en'] = fakenews_train_dataset.title2_en.apply(text_preproc)\n",
    "\n",
    "fakenews_train_dataset.head()"
   ]
  },
  {
   "cell_type": "markdown",
   "id": "b08b8681",
   "metadata": {},
   "source": [
    "# Model Training"
   ]
  },
  {
   "cell_type": "code",
   "execution_count": 10,
   "id": "144f23c0",
   "metadata": {},
   "outputs": [
    {
     "name": "stdout",
     "output_type": "stream",
     "text": [
      "(205153,) (205153,) (51289,) (51289,)\n"
     ]
    }
   ],
   "source": [
    "# Concatinating title 1 and title 2 and passing it as input variable.Making lable the output variable\n",
    "X = fakenews_train_dataset['title1_en']+fakenews_train_dataset['title2_en']\n",
    "y = fakenews_train_dataset['label']\n",
    "\n",
    "# Spliting the data into 80 and 20\n",
    "X_train,X_test,y_train,y_test= train_test_split(X,y, train_size=0.80,random_state=1)\n",
    "print(X_train.shape,y_train.shape,X_test.shape,y_test.shape)"
   ]
  },
  {
   "cell_type": "code",
   "execution_count": 11,
   "id": "11e7d87f",
   "metadata": {},
   "outputs": [],
   "source": [
    "vectorizer = TfidfVectorizer()\n",
    "train_vectors = vectorizer.fit_transform(X_train)\n",
    "test_vectors = vectorizer.transform(X_test)"
   ]
  },
  {
   "cell_type": "code",
   "execution_count": 12,
   "id": "86075242",
   "metadata": {},
   "outputs": [],
   "source": [
    "model_nb = MultinomialNB()\n",
    "model_nb.fit(train_vectors, y_train)\n",
    "\n",
    "val_predictions_nb = model_nb.predict(test_vectors)"
   ]
  },
  {
   "cell_type": "code",
   "execution_count": 13,
   "id": "142c001c",
   "metadata": {},
   "outputs": [],
   "source": [
    "model_rf = RandomForestClassifier()\n",
    "model_rf.fit(train_vectors, y_train)\n",
    "\n",
    "val_predictions_rf = model_rf.predict(test_vectors)"
   ]
  },
  {
   "cell_type": "code",
   "execution_count": 14,
   "id": "55072549",
   "metadata": {},
   "outputs": [],
   "source": [
    "model = DecisionTreeClassifier(random_state=42)\n",
    "model.fit(train_vectors, y_train)\n",
    "\n",
    "val_predictions_dt = model.predict(test_vectors)"
   ]
  },
  {
   "cell_type": "code",
   "execution_count": 15,
   "id": "63c216f6",
   "metadata": {},
   "outputs": [],
   "source": [
    "model_knn = KNeighborsClassifier(n_neighbors=5)\n",
    "model_knn.fit(train_vectors, y_train)\n",
    "\n",
    "val_predictions_knn = model_knn.predict(test_vectors)"
   ]
  },
  {
   "cell_type": "markdown",
   "id": "8cae2edf",
   "metadata": {},
   "source": [
    "# Model Evaluation"
   ]
  },
  {
   "cell_type": "code",
   "execution_count": 16,
   "id": "49d6244d",
   "metadata": {},
   "outputs": [],
   "source": [
    "val_accuracy_dt = accuracy_score(y_test, val_predictions_dt)\n",
    "val_accuracy_rf= accuracy_score(y_test, val_predictions_rf)\n",
    "val_accuracy_nb= accuracy_score(y_test, val_predictions_nb)\n",
    "val_accuracy_knn= accuracy_score(y_test, val_predictions_knn)"
   ]
  },
  {
   "cell_type": "code",
   "execution_count": 17,
   "id": "d07b3729",
   "metadata": {
    "scrolled": false
   },
   "outputs": [
    {
     "name": "stdout",
     "output_type": "stream",
     "text": [
      "╒═════════════════════════════════════╤═══════════════╕\n",
      "│ Classifier Type                     │   Accuracy(%) │\n",
      "╞═════════════════════════════════════╪═══════════════╡\n",
      "│ Decision Tree Classifier Validation │         77.01 │\n",
      "├─────────────────────────────────────┼───────────────┤\n",
      "│ Random Forest Classifier            │         85.08 │\n",
      "├─────────────────────────────────────┼───────────────┤\n",
      "│ Naive Bayes                         │         73.13 │\n",
      "├─────────────────────────────────────┼───────────────┤\n",
      "│ KNN                                 │         81.47 │\n",
      "╘═════════════════════════════════════╧═══════════════╛\n"
     ]
    }
   ],
   "source": [
    "data = [['Decision Tree Classifier Validation', val_accuracy_dt*100],\n",
    "['Random Forest Classifier',val_accuracy_rf*100],\n",
    "['Naive Bayes', val_accuracy_nb*100],\n",
    "['KNN', val_accuracy_knn*100]]\n",
    "\n",
    "df_accuracy = pd.DataFrame(data, columns=['Classifier Type', 'Accuracy(%)'])\n",
    "df_accuracy = df_accuracy.sort_values('Accuracy(%)', ascending=False)\n",
    "\n",
    "print (tabulate(data, headers=[\"Classifier Type\", \"Accuracy(%)\"],tablefmt='fancy_grid',floatfmt=\".2f\"))"
   ]
  },
  {
   "cell_type": "code",
   "execution_count": 27,
   "id": "b6f1411c",
   "metadata": {},
   "outputs": [
    {
     "data": {
      "image/png": "[encoded data removed]",
      "text/plain": [
       "<Figure size 432x288 with 1 Axes>"
      ]
     },
     "metadata": {
      "needs_background": "light"
     },
     "output_type": "display_data"
    }
   ],
   "source": [
    "# create a horizontal bar chart\n",
    "plt.barh(df_accuracy[\"Classifier Type\"], df_accuracy[\"Accuracy(%)\"])\n",
    "plt.xlabel(\"Accuracy (%)\")\n",
    "plt.ylabel(\"Classifier Type\")\n",
    "plt.title(\"Comparison of Classifier Accuracy\")\n",
    "plt.xlim(0, 100)\n",
    "\n",
    "for i, v in enumerate(df_accuracy[\"Accuracy(%)\"]):\n",
    "    plt.text(v + 1, i, \"{:.2f}%\".format(v))\n",
    "    \n",
    "plt.show()"
   ]
  },
  {
   "cell_type": "code",
   "execution_count": 19,
   "id": "d965d771",
   "metadata": {},
   "outputs": [
    {
     "name": "stdout",
     "output_type": "stream",
     "text": [
      "\n",
      "\n",
      "Decision Tree Classifier Classification Report:\n",
      "\n",
      "              precision    recall  f1-score   support\n",
      "\n",
      "      agreed       0.64      0.66      0.65     14916\n",
      "   disagreed       0.42      0.37      0.40      1251\n",
      "   unrelated       0.84      0.83      0.83     35122\n",
      "\n",
      "    accuracy                           0.77     51289\n",
      "   macro avg       0.63      0.62      0.63     51289\n",
      "weighted avg       0.77      0.77      0.77     51289\n",
      "\n",
      "\n",
      "\n",
      "Random Forest Classifier Classification Report:\n",
      "\n",
      "              precision    recall  f1-score   support\n",
      "\n",
      "      agreed       0.84      0.68      0.75     14916\n",
      "   disagreed       0.82      0.26      0.39      1251\n",
      "   unrelated       0.85      0.95      0.90     35122\n",
      "\n",
      "    accuracy                           0.85     51289\n",
      "   macro avg       0.84      0.63      0.68     51289\n",
      "weighted avg       0.85      0.85      0.84     51289\n",
      "\n",
      "\n",
      "\n",
      "Naive Bayes Classification Report:\n",
      "\n",
      "              precision    recall  f1-score   support\n",
      "\n",
      "      agreed       0.87      0.19      0.31     14916\n",
      "   disagreed       1.00      0.00      0.00      1251\n",
      "   unrelated       0.72      0.99      0.83     35122\n",
      "\n",
      "    accuracy                           0.73     51289\n",
      "   macro avg       0.86      0.39      0.38     51289\n",
      "weighted avg       0.77      0.73      0.66     51289\n",
      "\n",
      "\n",
      "\n",
      "KNN Classification Report:\n",
      "\n",
      "              precision    recall  f1-score   support\n",
      "\n",
      "      agreed       0.69      0.79      0.73     14916\n",
      "   disagreed       0.54      0.43      0.48      1251\n",
      "   unrelated       0.89      0.84      0.86     35122\n",
      "\n",
      "    accuracy                           0.81     51289\n",
      "   macro avg       0.71      0.69      0.69     51289\n",
      "weighted avg       0.82      0.81      0.82     51289\n",
      "\n"
     ]
    }
   ],
   "source": [
    "val_classification_report_dt=classification_report(y_test, val_predictions_dt)\n",
    "print(\"\\n\\nDecision Tree Classifier Classification Report:\\n\")\n",
    "print(val_classification_report_dt)\n",
    "\n",
    "val_classification_report_rf=classification_report(y_test, val_predictions_rf,zero_division=1)\n",
    "print(\"\\n\\nRandom Forest Classifier Classification Report:\\n\")\n",
    "print(val_classification_report_rf)\n",
    "\n",
    "val_classification_report_nb=classification_report(y_test, val_predictions_nb)\n",
    "print(\"\\n\\nNaive Bayes Classification Report:\\n\")\n",
    "print(val_classification_report_nb)\n",
    "\n",
    "val_classification_report_knn=classification_report(y_test, val_predictions_knn)\n",
    "print(\"\\n\\nKNN Classification Report:\\n\")\n",
    "print(val_classification_report_knn)"
   ]
  },
  {
   "cell_type": "code",
   "execution_count": 20,
   "id": "e9390ef8",
   "metadata": {},
   "outputs": [
    {
     "data": {
      "image/png": "[encoded data removed]",
      "text/plain": [
       "<Figure size 720x576 with 2 Axes>"
      ]
     },
     "metadata": {
      "needs_background": "light"
     },
     "output_type": "display_data"
    }
   ],
   "source": [
    "# create a dictionary of models and their predictions\n",
    "models = {\n",
    "    'Decision Tree Classifier': val_predictions_dt,\n",
    "    'Random Forest Classifier': val_predictions_rf,\n",
    "    'Naive Bayes': val_predictions_nb,\n",
    "    'KNN': val_predictions_knn\n",
    "}\n",
    "\n",
    "# create an empty dictionary to store the classification reports\n",
    "reports = {}\n",
    "\n",
    "# loop through each model and calculate the classification report\n",
    "for name, preds in models.items():\n",
    "    report = classification_report(y_test, preds, output_dict=True)\n",
    "    reports[name] = report\n",
    "    \n",
    "# convert the reports dictionary to a dataframe\n",
    "df = pd.DataFrame.from_dict({(i,j): reports[i][j] \n",
    "                             for i in reports.keys() \n",
    "                             for j in reports[i].keys() \n",
    "                             if not isinstance(reports[i][j], float)},\n",
    "                            orient='index')\n",
    "\n",
    "# extract the precision, recall, and f1-score columns\n",
    "df = df[['precision', 'recall', 'f1-score']]\n",
    "\n",
    "# reshape the dataframe for plotting\n",
    "df = df.reset_index()\n",
    "df = df.rename(columns={'level_0': 'model', 'level_1': 'metric'})\n",
    "df = df.pivot(index='model', columns='metric')\n",
    "\n",
    "# create the heatmap with larger font size for annotations\n",
    "fig, ax = plt.subplots(figsize=(10, 8))\n",
    "sns.heatmap(df, annot=True, cmap='Blues', annot_kws={\"fontsize\":10})\n",
    "plt.show()"
   ]
  },
  {
   "cell_type": "markdown",
   "id": "35636335",
   "metadata": {},
   "source": [
    "# Model Predication"
   ]
  },
  {
   "cell_type": "code",
   "execution_count": 21,
   "id": "9a56a711",
   "metadata": {},
   "outputs": [
    {
     "data": {
      "text/html": [
       "<div>\n",
       "<style scoped>\n",
       "    .dataframe tbody tr th:only-of-type {\n",
       "        vertical-align: middle;\n",
       "    }\n",
       "\n",
       "    .dataframe tbody tr th {\n",
       "        vertical-align: top;\n",
       "    }\n",
       "\n",
       "    .dataframe thead th {\n",
       "        text-align: right;\n",
       "    }\n",
       "</style>\n",
       "<table border=\"1\" class=\"dataframe\">\n",
       "  <thead>\n",
       "    <tr style=\"text-align: right;\">\n",
       "      <th></th>\n",
       "      <th>id</th>\n",
       "      <th>tid1</th>\n",
       "      <th>tid2</th>\n",
       "      <th>title1_en</th>\n",
       "      <th>title2_en</th>\n",
       "    </tr>\n",
       "  </thead>\n",
       "  <tbody>\n",
       "    <tr>\n",
       "      <th>0</th>\n",
       "      <td>256442</td>\n",
       "      <td>100672</td>\n",
       "      <td>100673</td>\n",
       "      <td>great coat brother zhu zhu wen mandarin love s...</td>\n",
       "      <td>lin xinsheng birth hard milking huo jianhua se...</td>\n",
       "    </tr>\n",
       "    <tr>\n",
       "      <th>1</th>\n",
       "      <td>256443</td>\n",
       "      <td>162269</td>\n",
       "      <td>162270</td>\n",
       "      <td>nasa reveals fact ufo wreckage found moon</td>\n",
       "      <td>ufo found yuancun jiaocheng county shanxi shoc...</td>\n",
       "    </tr>\n",
       "    <tr>\n",
       "      <th>2</th>\n",
       "      <td>256444</td>\n",
       "      <td>157826</td>\n",
       "      <td>157854</td>\n",
       "      <td>hollow tomato loaded hormone</td>\n",
       "      <td>li chenfan bingbing home photo netizen called ...</td>\n",
       "    </tr>\n",
       "    <tr>\n",
       "      <th>3</th>\n",
       "      <td>256445</td>\n",
       "      <td>109579</td>\n",
       "      <td>74076</td>\n",
       "      <td>ange pavilion geoshui accurate matrimony match...</td>\n",
       "      <td>master one eight character presumption marriag...</td>\n",
       "    </tr>\n",
       "    <tr>\n",
       "      <th>4</th>\n",
       "      <td>256446</td>\n",
       "      <td>15068</td>\n",
       "      <td>15085</td>\n",
       "      <td>year old bus bus blow year old child rumor rum...</td>\n",
       "      <td>joe johnson disgruntled timing order myth</td>\n",
       "    </tr>\n",
       "  </tbody>\n",
       "</table>\n",
       "</div>"
      ],
      "text/plain": [
       "       id    tid1    tid2                                          title1_en  \\\n",
       "0  256442  100672  100673  great coat brother zhu zhu wen mandarin love s...   \n",
       "1  256443  162269  162270          nasa reveals fact ufo wreckage found moon   \n",
       "2  256444  157826  157854                       hollow tomato loaded hormone   \n",
       "3  256445  109579   74076  ange pavilion geoshui accurate matrimony match...   \n",
       "4  256446   15068   15085  year old bus bus blow year old child rumor rum...   \n",
       "\n",
       "                                           title2_en  \n",
       "0  lin xinsheng birth hard milking huo jianhua se...  \n",
       "1  ufo found yuancun jiaocheng county shanxi shoc...  \n",
       "2  li chenfan bingbing home photo netizen called ...  \n",
       "3  master one eight character presumption marriag...  \n",
       "4          joe johnson disgruntled timing order myth  "
      ]
     },
     "execution_count": 21,
     "metadata": {},
     "output_type": "execute_result"
    }
   ],
   "source": [
    "# load the test data\n",
    "test_df = pd.read_csv('test.csv')\n",
    "test_df['title1_en'] = test_df.title1_en.apply(text_preproc)\n",
    "test_df['title2_en'] = test_df.title2_en.apply(text_preproc)\n",
    "test_df.head()"
   ]
  },
  {
   "cell_type": "code",
   "execution_count": 22,
   "id": "f8f0ce79",
   "metadata": {},
   "outputs": [],
   "source": [
    "test_texts = test_df['title1_en'] + test_df['title2_en']\n",
    "test_vectors = vectorizer.transform(test_texts)\n",
    "\n",
    "# make predictions on the test set\n",
    "test_predictions = model_rf.predict(test_vectors)\n",
    "\n",
    "# save the predictions to a file in the required format\n",
    "submission_df = pd.DataFrame({'id': test_df['id'], 'label': test_predictions})\n",
    "submission_df.to_csv('submission.csv', index=False)"
   ]
  },
  {
   "cell_type": "code",
   "execution_count": 23,
   "id": "ff0f3348",
   "metadata": {},
   "outputs": [
    {
     "data": {
      "text/plain": [
       "unrelated    48340\n",
       "agreed       15267\n",
       "disagreed      503\n",
       "Name: label, dtype: int64"
      ]
     },
     "execution_count": 23,
     "metadata": {},
     "output_type": "execute_result"
    },
    {
     "data": {
      "image/png": "[encoded data removed]",
      "text/plain": [
       "<Figure size 432x288 with 1 Axes>"
      ]
     },
     "metadata": {
      "needs_background": "light"
     },
     "output_type": "display_data"
    }
   ],
   "source": [
    "submission_df['label'].hist()\n",
    "submission_df['label'].value_counts()"
   ]
  }
 ],
 "metadata": {
  "kernelspec": {
   "display_name": "Python 3 (ipykernel)",
   "language": "python",
   "name": "python3"
  },
  "language_info": {
   "codemirror_mode": {
    "name": "ipython",
    "version": 3
   },
   "file_extension": ".py",
   "mimetype": "text/x-python",
   "name": "python",
   "nbconvert_exporter": "python",
   "pygments_lexer": "ipython3",
   "version": "3.9.12"
  }
 },
 "nbformat": 4,
 "nbformat_minor": 5
}
